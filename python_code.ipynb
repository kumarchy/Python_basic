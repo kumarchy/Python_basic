{
  "nbformat": 4,
  "nbformat_minor": 0,
  "metadata": {
    "colab": {
      "provenance": [],
      "authorship_tag": "ABX9TyMjBTyUSdVi1hEHoATMzxBZ",
      "include_colab_link": true
    },
    "kernelspec": {
      "name": "python3",
      "display_name": "Python 3"
    },
    "language_info": {
      "name": "python"
    }
  },
  "cells": [
    {
      "cell_type": "markdown",
      "metadata": {
        "id": "view-in-github",
        "colab_type": "text"
      },
      "source": [
        "<a href=\"https://colab.research.google.com/github/kumarchy/Python_basic/blob/main/python_code.ipynb\" target=\"_parent\"><img src=\"https://colab.research.google.com/assets/colab-badge.svg\" alt=\"Open In Colab\"/></a>"
      ]
    },
    {
      "cell_type": "code",
      "execution_count": null,
      "metadata": {
        "id": "s89PEAdlb20_"
      },
      "outputs": [],
      "source": [
        "###--- program on selection operations\n",
        "def check_greatest_num(num1,num2,num3):\n",
        "    if num1>num2 and num1>num3:\n",
        "        return num1\n",
        "    elif num2>num1 and num2>num3:\n",
        "        return num2\n",
        "    else:\n",
        "        return num3\n",
        "num1=int(input('enter the num1'))\n",
        "num2=int(input('enter the num2'))\n",
        "num3=int(input('enter the num3'))\n",
        "result=check_greatest_num(num1,num2,num3)\n",
        "print(f'greatest number among {num1},{num2},{num3} is',result)\n"
      ]
    },
    {
      "cell_type": "code",
      "source": [
        "###---program on iteration operations\n",
        "def table(num):\n",
        "    for i in range(1,11):\n",
        "        print(num,'*',i,'=',num*i)\n",
        "\n",
        "num=int(input('enter the number for printing table'))\n",
        "table(num)"
      ],
      "metadata": {
        "id": "SuWE2stbcNfb"
      },
      "execution_count": null,
      "outputs": []
    },
    {
      "cell_type": "code",
      "source": [
        "###---program to find the factorial of number and find the number of digits in the factorial if the number is odd and check the number is palindrome or not if the number is even\n",
        "\n",
        "def check_factorial_palindrome(num):\n",
        "    if num%2!=0:\n",
        "        factorial=1\n",
        "        count=0\n",
        "        for i in range(1,num+1):\n",
        "            factorial=factorial*i\n",
        "        print(factorial)\n",
        "        while(num!=0):\n",
        "            count+=1\n",
        "            num//=10\n",
        "        print(count)\n",
        "# to check the palindrome\n",
        "    else:\n",
        "        rev=0\n",
        "        x=num\n",
        "        while(x!=0):\n",
        "            rem=x%10\n",
        "            rev=rev*10+rem\n",
        "            x//=10\n",
        "        if rev==num:\n",
        "            print('it is palindrome')\n",
        "        else:\n",
        "            print('it is not palindrome')\n",
        "\n",
        "num=int(input('enter the number'))\n",
        "check_factorial_palindrome(num)\n"
      ],
      "metadata": {
        "id": "WIRAzUo3cRy8"
      },
      "execution_count": null,
      "outputs": []
    },
    {
      "cell_type": "code",
      "source": [
        "###--- program to check whether the second string is obtained from the first string or not\n",
        "def string(string1,string2):\n",
        "    string3=''\n",
        "    temp=0\n",
        "    len1=len(string1)\n",
        "    len2=len(string2)\n",
        "    for i in range(0,len1):\n",
        "        for j in range(temp,len2):\n",
        "            if string1[i]==string2[j]:\n",
        "                string3=string3+string2[j]\n",
        "                temp=j+1\n",
        "                break\n",
        "\n",
        "    return string3\n",
        "string1=input('enter the string1')\n",
        "string2=input('enter the string2')\n",
        "result=string(string1,string2)\n",
        "if result==string1:\n",
        "    print('yes it is obtained from string1')\n",
        "else:\n",
        "    print('no it is not obtained from string1')\n"
      ],
      "metadata": {
        "id": "l6rAPPzmctre"
      },
      "execution_count": null,
      "outputs": []
    },
    {
      "cell_type": "code",
      "source": [
        "###---program for positive  and negative indexing\n",
        "def positive_negative_indexing():\n",
        "    string=input('enter the string').split()\n",
        "\n",
        "    print(string)\n",
        "## positive indexing\n",
        "    print(string[0:5])\n",
        "## negative indexing\n",
        "    print(string[-5:-1])\n",
        "\n",
        "positive_negative_indexing()\n"
      ],
      "metadata": {
        "id": "FnrvVLmFcy6Q"
      },
      "execution_count": null,
      "outputs": []
    },
    {
      "cell_type": "code",
      "source": [
        "###---program to check the given list is in ascending order or not\n",
        "\n",
        "def check_ascending(elements):\n",
        "    for i in range(len(elements)-1):\n",
        "        if elements[i]>elements[i+1]:\n",
        "            return False\n",
        "    return True\n",
        "elements=list(map(int,input('enter the elements').split()))\n",
        "if check_ascending(elements):\n",
        "    print('yes it is in ascending order')\n",
        "else:\n",
        "    print('no it is not in ascending order')\n"
      ],
      "metadata": {
        "id": "Wax3b50Yc3aD"
      },
      "execution_count": null,
      "outputs": []
    },
    {
      "cell_type": "code",
      "source": [
        "###--- program to convert touple to a string\n",
        "def convert_touple_to_string(my_tuple):\n",
        "\n",
        "    string_result = ' '.join(my_tuple)\n",
        "    print(string_result)\n",
        "    string_result = ', '.join(my_tuple)\n",
        "    print(string_result)\n",
        "my_tuple = ('Hello', 'World', 'Python')\n",
        "\n",
        "convert_touple_to_string(my_tuple)\n"
      ],
      "metadata": {
        "id": "N2R4wqB5c5oj"
      },
      "execution_count": null,
      "outputs": []
    },
    {
      "cell_type": "code",
      "source": [
        "###---program to reverse touple elements\n",
        "def reverse_touple():\n",
        "    touple=[]\n",
        "    temp=0\n",
        "    for i in range(5):\n",
        "        x=int(input('enter the number'))\n",
        "        touple.append(x)\n",
        "\n",
        "    touple.reverse()\n",
        "    print(tuple(touple))\n",
        "reverse_touple()\n"
      ],
      "metadata": {
        "id": "J-5DdQSzc_VZ"
      },
      "execution_count": null,
      "outputs": []
    },
    {
      "cell_type": "code",
      "source": [
        "###--- program to check if the set is subset of another set\n",
        "def check_subset(set1,set2):\n",
        "    return set1.issubset(set2)\n",
        "\n",
        "set1={1,2,3,4,5}\n",
        "set2={1,2,3,4,5,6,7,8,9}\n",
        "if check_subset(set1,set2):\n",
        "    print('set1 is subset of set2')\n",
        "else:\n",
        "    print('set1 is not subset of set2')"
      ],
      "metadata": {
        "id": "qDgBPveEdD-q"
      },
      "execution_count": null,
      "outputs": []
    },
    {
      "cell_type": "code",
      "source": [
        "###-- program to iterate the dictionary using for loop\n",
        "def dictionary_function():\n",
        "    student_scores = {\n",
        "        'John': 85,\n",
        "        'samir': 92,\n",
        "        'rajesh': 78,\n",
        "        'Sophia': 95,\n",
        "        'Daniel': 88\n",
        "    }\n",
        "\n",
        "    for students, score in student_scores.items():\n",
        "        print(f\"{students} scored {score} marks\")\n",
        "dictionary_function()"
      ],
      "metadata": {
        "id": "lEXalJV8dGOq"
      },
      "execution_count": null,
      "outputs": []
    }
  ]
}